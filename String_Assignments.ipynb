{
 "cells": [
  {
   "cell_type": "markdown",
   "id": "15f99646",
   "metadata": {},
   "source": [
    "* Define a string named as input_string where the text is \"Python can be easy to pick up whether You're a first time programmer or you're experienced with other languages.\""
   ]
  },
  {
   "cell_type": "code",
   "execution_count": 1,
   "id": "44fcef15",
   "metadata": {},
   "outputs": [
    {
     "name": "stdout",
     "output_type": "stream",
     "text": [
      "Python can be easy to pick up whether You're a first time programmer or you're experienced with other languages.\n"
     ]
    }
   ],
   "source": [
    " input_string = \"Python can be easy to pick up whether You're a first time programmer or you're experienced with other languages.\"\n",
    " print(input_string)"
   ]
  },
  {
   "cell_type": "markdown",
   "id": "a80de52b",
   "metadata": {},
   "source": [
    "* **Q1** How many times you're occured in input_string including capital letters"
   ]
  },
  {
   "cell_type": "code",
   "execution_count": 2,
   "id": "165bbe48",
   "metadata": {},
   "outputs": [
    {
     "name": "stdout",
     "output_type": "stream",
     "text": [
      "2\n"
     ]
    }
   ],
   "source": [
    " new = input_string.lower()\n",
    " print(new.count(\"you're\"))"
   ]
  },
  {
   "cell_type": "markdown",
   "id": "9052e8f1",
   "metadata": {},
   "source": [
    "* **Q2** Shows the index number of \"other\" in input_string"
   ]
  },
  {
   "cell_type": "code",
   "execution_count": 14,
   "id": "5920e660",
   "metadata": {},
   "outputs": [
    {
     "name": "stdout",
     "output_type": "stream",
     "text": [
      "96\n"
     ]
    }
   ],
   "source": [
    "print(input_string.index(\"other\"))"
   ]
  },
  {
   "cell_type": "markdown",
   "id": "d6d64f60",
   "metadata": {},
   "source": [
    "* **Q3** Print the character from input_string at position 14 from the end of the string"
   ]
  },
  {
   "cell_type": "code",
   "execution_count": 16,
   "id": "8ef267df",
   "metadata": {},
   "outputs": [
    {
     "name": "stdout",
     "output_type": "stream",
     "text": [
      "easy to pick up whether You're a first time programmer or you're experienced with other languages.\n"
     ]
    }
   ],
   "source": [
    "print(input_string[14:])"
   ]
  },
  {
   "cell_type": "markdown",
   "id": "d9691878",
   "metadata": {},
   "source": [
    "* **Q4** Print the characters from input_string at position 39 to 68"
   ]
  },
  {
   "cell_type": "code",
   "execution_count": 17,
   "id": "694fe014",
   "metadata": {},
   "outputs": [
    {
     "name": "stdout",
     "output_type": "stream",
     "text": [
      "You're a first time programmer \n"
     ]
    }
   ],
   "source": [
    "print(input_string[38:69])"
   ]
  },
  {
   "cell_type": "markdown",
   "id": "7d8d6707",
   "metadata": {},
   "source": [
    "* **Q5** Return all the characters in lower case from the input_list"
   ]
  },
  {
   "cell_type": "code",
   "execution_count": 18,
   "id": "c3f10bfc",
   "metadata": {},
   "outputs": [
    {
     "name": "stdout",
     "output_type": "stream",
     "text": [
      "python can be easy to pick up whether you're a first time programmer or you're experienced with other languages.\n"
     ]
    }
   ],
   "source": [
    "print(input_string.lower())"
   ]
  },
  {
   "cell_type": "markdown",
   "id": "7a678db5",
   "metadata": {},
   "source": [
    "* **Q6** Return all the characters in proper case from the input_list"
   ]
  },
  {
   "cell_type": "code",
   "execution_count": 19,
   "id": "957b736d",
   "metadata": {},
   "outputs": [
    {
     "name": "stdout",
     "output_type": "stream",
     "text": [
      "Python can be easy to pick up whether you're a first time programmer or you're experienced with other languages.\n"
     ]
    }
   ],
   "source": [
    "print(input_string.capitalize())"
   ]
  },
  {
   "cell_type": "markdown",
   "id": "016d7864",
   "metadata": {},
   "source": [
    "* **Q7** Capitalize below text.<br>\n",
    "text_1 = \"python's documentation will hElp you along the waY, and the maIling lisTs will keep yoU in Touch.\""
   ]
  },
  {
   "cell_type": "code",
   "execution_count": 20,
   "id": "a59d653a",
   "metadata": {},
   "outputs": [
    {
     "name": "stdout",
     "output_type": "stream",
     "text": [
      "Python's documentation will help you along the way,\n",
      "and the mailing lists will keep you in touch.\n"
     ]
    }
   ],
   "source": [
    "text_1 ='''python's documentation will hElp you along the waY,\n",
    "and the maIling lisTs will keep yoU in Touch.'''\n",
    "print(text_1.capitalize())"
   ]
  },
  {
   "cell_type": "markdown",
   "id": "6ae7ae81",
   "metadata": {},
   "source": [
    "* **Q8** Concatenates the below list of strings together to create a new string joined with the space delimiter.<br>\n",
    "text_2=['Python','is','powerful...','and','fast;','plays','well','with','others;','runs','everywhere;']"
   ]
  },
  {
   "cell_type": "code",
   "execution_count": 44,
   "id": "1e077c87",
   "metadata": {},
   "outputs": [
    {
     "name": "stdout",
     "output_type": "stream",
     "text": [
      "Python is powerful... and fast; plays well with others; runs everywhere;\n"
     ]
    }
   ],
   "source": [
    "text_2=['Python','is','powerful...','and','fast;','plays','well','with','others;','runs','everywhere;']\n",
    "join_text2 = \" \".join(text_2)\n",
    "print(join_text2)"
   ]
  },
  {
   "cell_type": "markdown",
   "id": "f0ceceec",
   "metadata": {},
   "source": [
    "* **Q9** Split the below sentence into a list of strings<br>\n",
    "text_5=\"The Python Package Index (PyPI) hosts thousands of third-party modules for Python.\""
   ]
  },
  {
   "cell_type": "code",
   "execution_count": 21,
   "id": "6d4095b6",
   "metadata": {},
   "outputs": [
    {
     "name": "stdout",
     "output_type": "stream",
     "text": [
      "['The', 'Python', 'Package', 'Index', '(PyPI)', 'hosts', 'thousands', 'of', 'third-party', 'modules', 'for', 'Python.']\n"
     ]
    }
   ],
   "source": [
    "text_5=\"The Python Package Index (PyPI) hosts thousands of third-party modules for Python.\"\n",
    "new_text5 = text_5.split()\n",
    "print(new_text5)"
   ]
  },
  {
   "cell_type": "markdown",
   "id": "70818a5b",
   "metadata": {},
   "source": [
    "* **Q10** Replace \"risk\" by \"dynamic\" to the below string including capital letters<br>\n",
    "text_6 = '''Python is an interpreted, object-oriented, High-level programming language with Risk semantics. Its high-level built in data structures, combined with risk typing and Risk binding, make it very attractive for Rapid Application Development'''"
   ]
  },
  {
   "cell_type": "code",
   "execution_count": 32,
   "id": "50180786",
   "metadata": {},
   "outputs": [
    {
     "name": "stdout",
     "output_type": "stream",
     "text": [
      "python is an interpreted, object-oriented, high-level programming language with dynamic semantics.\n",
      "its high-level built in data structures, combined with dynamic typing and dynamic binding,\n",
      "make it very attractive for rapid application development\n"
     ]
    }
   ],
   "source": [
    "text_6 = '''Python is an interpreted, object-oriented, High-level programming language with Risk semantics.\n",
    "Its high-level built in data structures, combined with risk typing and Risk binding,\n",
    "make it very attractive for Rapid Application Development'''\n",
    "ltext6 = text_6.lower()\n",
    "rtext6 = ltext6.replace(\"risk\",\"dynamic\")\n",
    "print(rtext6)\n"
   ]
  },
  {
   "cell_type": "code",
   "execution_count": null,
   "id": "fifty-bikini",
   "metadata": {},
   "outputs": [],
   "source": []
  }
 ],
 "metadata": {
  "interpreter": {
   "hash": "11938c6bc6919ae2720b4d5011047913343b08a43b18698fd82dedb0d4417594"
  },
  "kernelspec": {
   "display_name": "Python 3",
   "language": "python",
   "name": "python3"
  },
  "language_info": {
   "codemirror_mode": {
    "name": "ipython",
    "version": 3
   },
   "file_extension": ".py",
   "mimetype": "text/x-python",
   "name": "python",
   "nbconvert_exporter": "python",
   "pygments_lexer": "ipython3",
   "version": "3.8.5"
  }
 },
 "nbformat": 4,
 "nbformat_minor": 5
}
